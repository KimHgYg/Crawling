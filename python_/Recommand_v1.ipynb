{
 "cells": [
  {
   "cell_type": "code",
   "execution_count": 1,
   "metadata": {},
   "outputs": [],
   "source": [
    "import asyncio"
   ]
  },
  {
   "cell_type": "code",
   "execution_count": 2,
   "metadata": {},
   "outputs": [
    {
     "name": "stdout",
     "output_type": "stream",
     "text": [
      "add: 1 + 2\n",
      "print_add: 1 + 2 = 3\n"
     ]
    }
   ],
   "source": [
    "async def add(a, b):\n",
    "    print('add: {0} + {1}'.format(a, b))\n",
    "    await asyncio.sleep(1.0)    # 1초 대기. asyncio.sleep도 네이티브 코루틴\n",
    "    return a + b    # 두 수를 더한 결과 반환\n",
    " \n",
    "async def print_add(a, b):\n",
    "    result = await add(a, b)    # await로 다른 네이티브 코루틴 실행하고 반환값을 변수에 저장\n",
    "    print('print_add: {0} + {1} = {2}'.format(a, b, result))\n",
    "    \n",
    "loop = asyncio.get_event_loop()             # 이벤트 루프를 얻음\n",
    "loop.run_until_complete(print_add(1, 2))    # print_add가 끝날 때까지 이벤트 루프를 실행\n",
    "loop.close()"
   ]
  },
  {
   "cell_type": "code",
   "execution_count": null,
   "metadata": {},
   "outputs": [],
   "source": []
  }
 ],
 "metadata": {
  "kernelspec": {
   "display_name": "Python 3",
   "language": "python",
   "name": "python3"
  },
  "language_info": {
   "codemirror_mode": {
    "name": "ipython",
    "version": 3
   },
   "file_extension": ".py",
   "mimetype": "text/x-python",
   "name": "python",
   "nbconvert_exporter": "python",
   "pygments_lexer": "ipython3",
   "version": "3.6.4"
  }
 },
 "nbformat": 4,
 "nbformat_minor": 2
}
